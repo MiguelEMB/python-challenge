{
 "cells": [
  {
   "cell_type": "code",
   "execution_count": 3,
   "id": "a873c0d5-4c83-4969-9506-fccd986ffd10",
   "metadata": {},
   "outputs": [],
   "source": [
    "import csv\n",
    "\n",
    "path = \"/Users/mm/Downloads/Fintech_Bootcamp/assigments/2/python-challenge/PyBank/resources/budget_data.csv\""
   ]
  },
  {
   "cell_type": "code",
   "execution_count": 4,
   "id": "8b806b94-dc00-435c-85c3-20fdba7f4fd8",
   "metadata": {},
   "outputs": [
    {
     "name": "stdout",
     "output_type": "stream",
     "text": [
      "[116771, -662642, -391430, 379920, 212354, 510239, -428211, -821271, 693918, 416278, -974163, 860159, -1115009, 1033048, 95318, -308093, 99052, -521393, 605450, 231727, -65187, -702716, 177975, -1065544, 1926159, -917805, 898730, -334262, -246499, -64055, -1529236, 1497596, 304914, -635801, 398319, -183161, -37864, -253689, 403655, 94168, 306877, -83000, 210462, -2196167, 1465222, -956983, 1838447, -468003, -64602, 206242, -242155, -449079, 315198, 241099, 111540, 365942, -219310, -368665, 409837, 151210, -110244, -341938, -1212159, 683246, -70825, 335594, 417334, -272194, -236462, 657432, -211262, -128237, -1750387, 925441, 932089, -311434, 267252, -1876758, 1733696, 198551, -665765, 693229, -734926, 77242, 532869]\n"
     ]
    }
   ],
   "source": [
    "total_pnl = 0 \n",
    "number_of_months = 0\n",
    "last_month_pnl = 0\n",
    "this_month_change = 0\n",
    "pnl_change = []\n",
    "date = []\n",
    "pnl = []\n",
    "max_increase = { \n",
    "    \"date\" : '' ,\n",
    "    \"amount\" : 0 \n",
    "}\n",
    "min_decrese ={\n",
    "    \n",
    "    \"date\" : '' ,\n",
    "    \"amount\" : 0 \n",
    "}\n",
    "\n",
    "\n",
    "# opening and reading the csv file\n",
    "\n",
    "with open (path, 'r') as budget:\n",
    "    budget_data = csv.DictReader(budget)\n",
    "    \n",
    "#iterating trough all the rows in the file\n",
    "\n",
    "    for row in budget_data:\n",
    "        \n",
    "        total_pnl += int(row[\"Profit/Losses\"])\n",
    "        \n",
    "        number_of_months += 1\n",
    "        \n",
    "        \n",
    "\n",
    "        this_month_change = int(row[\"Profit/Losses\"]) - last_month_pnl\n",
    "        last_month_pnl = int(row[\"Profit/Losses\"])\n",
    "         \n",
    "        pnl_change.append(this_month_change)\n",
    "        \n",
    "        if this_month_change > int(max_increase['amount']):\n",
    "            max_increase['date'] = row[\"Date\"]\n",
    "            max_increase['amount'] = this_month_change\n",
    "            \n",
    "        elif this_month_change < int(min_decrese['amount']):\n",
    "            min_decrese['date'] = row[\"Date\"]\n",
    "            min_decrese['amount'] = this_month_change\n",
    "            \n",
    "            \n",
    "                                     \n",
    "                            \n",
    "\n",
    "\n",
    "        #print(f\"{this_month_change} ---- {last_month_pnl}\")\n",
    "    del pnl_change[0]\n",
    "        \n",
    "\n",
    "                            \n",
    "            \n",
    "#max_change = max(pnl_change)         \n",
    "    \n",
    "\n",
    "# print(date)\n",
    "#print(pnl)\n",
    "#print(total_pnl)\n",
    "#print(number_of_months)\n",
    "print(pnl_change)\n",
    "#print(max_change)\n",
    "#print(min_decrese)\n"
   ]
  },
  {
   "cell_type": "code",
   "execution_count": 5,
   "id": "392a38fc-6a89-4daa-9ee4-c0a801287a46",
   "metadata": {},
   "outputs": [
    {
     "name": "stdout",
     "output_type": "stream",
     "text": [
      "The total number of months in the data set is 86, We came to this conclusion as every row in the CSV file represent a different month\n"
     ]
    }
   ],
   "source": [
    "# * The total number of months included in the dataset.\n",
    "\n",
    "\n",
    "print(f\"The total number of months in the data set is {number_of_months}, We came to this conclusion as every row in the CSV file represent a different month\")\n"
   ]
  },
  {
   "cell_type": "code",
   "execution_count": 6,
   "id": "48018654-968c-4794-acc6-daaa61536315",
   "metadata": {},
   "outputs": [
    {
     "name": "stdout",
     "output_type": "stream",
     "text": [
      "The  net total amount of Profit/Losses over the entire period is $38382578\n"
     ]
    }
   ],
   "source": [
    "#* The net total amount of Profit/Losses over the entire period.\n",
    "\n",
    "print(f\"The  net total amount of Profit/Losses over the entire period is ${total_pnl}\")\n",
    "\n",
    "\n",
    "\n"
   ]
  },
  {
   "cell_type": "code",
   "execution_count": 7,
   "id": "eebe3c20-cff3-4c3a-9e03-528e35a22425",
   "metadata": {},
   "outputs": [
    {
     "name": "stdout",
     "output_type": "stream",
     "text": [
      "The average of the changes in Profit/Losses over the entire period. $-2315.12\n"
     ]
    }
   ],
   "source": [
    "\n",
    "#* The average of the changes in Profit/Losses over the entire period.\n",
    "print(f\"The average of the changes in Profit/Losses over the entire period. ${round(sum(pnl_change)/(number_of_months -1),2)}\")\n",
    "\n",
    "\n",
    "\n",
    "\n",
    "\n",
    "\n",
    "\n"
   ]
  },
  {
   "cell_type": "code",
   "execution_count": 8,
   "id": "00105a19-2c80-4d93-95a5-ce77110c0134",
   "metadata": {},
   "outputs": [],
   "source": [
    "# * The greatest decrease in losses (date and amount) over the entire period"
   ]
  },
  {
   "cell_type": "code",
   "execution_count": 9,
   "id": "f0e84dcd-57a6-4cbf-bcc8-9b5cb833367e",
   "metadata": {},
   "outputs": [
    {
     "name": "stdout",
     "output_type": "stream",
     "text": [
      "The greates decrease in losses was recorded the Sep-2013 with an amount of $-2196167\n"
     ]
    }
   ],
   "source": [
    "print(f\"The greates decrease in losses was recorded the {min_decrese['date']} with an amount of ${min_decrese['amount']}\")\n",
    "\n",
    "\n",
    "\n",
    "\n",
    "\n",
    "\n",
    "\n"
   ]
  },
  {
   "cell_type": "code",
   "execution_count": 10,
   "id": "c6a84cea-a2c5-4168-9484-64aa43e9d0c3",
   "metadata": {},
   "outputs": [
    {
     "name": "stdout",
     "output_type": "stream",
     "text": [
      "The greates he greatest increase in profits was recorded the Feb-2012 with an amount of $1926159\n"
     ]
    }
   ],
   "source": [
    "# * The greatest increase in profits (date and amount) over the entire period.\n",
    "\n",
    "\n",
    "print(f\"The greates he greatest increase in profits was recorded the {max_increase['date']} with an amount of ${max_increase['amount']}\")\n",
    "\n",
    "\n"
   ]
  },
  {
   "cell_type": "code",
   "execution_count": 11,
   "id": "257c0017-0cee-48ff-97e0-af0c891ecbcc",
   "metadata": {},
   "outputs": [
    {
     "name": "stdout",
     "output_type": "stream",
     "text": [
      "The total number of months in the data set is 86, We came to this conclusion as every row in the CSV file represent a different month\n",
      "The  net total amount of Profit/Losses over the entire period is $38382578\n",
      "The average of the changes in Profit/Losses over the entire period. $-2315.12\n",
      "The greates he greatest increase in profits was recorded the Feb-2012 with an amount of $1926159\n",
      "The greates decrease in losses was recorded the Sep-2013 with an amount of $-2196167\n"
     ]
    }
   ],
   "source": [
    "# * The total number of months included in the dataset.\n",
    "\n",
    "\n",
    "print(f\"The total number of months in the data set is {number_of_months}, We came to this conclusion as every row in the CSV file represent a different month\")\n",
    "\n",
    "#* The net total amount of Profit/Losses over the entire period.\n",
    "\n",
    "print(f\"The  net total amount of Profit/Losses over the entire period is ${total_pnl}\")\n",
    "\n",
    "\n",
    "#* The average of the changes in Profit/Losses over the entire period.\n",
    "print(f\"The average of the changes in Profit/Losses over the entire period. ${round(sum(pnl_change)/(number_of_months -1),2)}\")\n",
    "\n",
    "# * The greatest increase in profits (date and amount) over the entire period.\n",
    "\n",
    "print(f\"The greates he greatest increase in profits was recorded the {max_increase['date']} with an amount of ${max_increase['amount']}\")\n",
    "\n",
    "# * The greatest decrease in losses (date and amount) over the entire period\n",
    "      \n",
    "print(f\"The greates decrease in losses was recorded the {min_decrese['date']} with an amount of ${min_decrese['amount']}\")\n",
    "\n"
   ]
  }
 ],
 "metadata": {
  "kernelspec": {
   "display_name": "Python 3 (ipykernel)",
   "language": "python",
   "name": "python3"
  },
  "language_info": {
   "codemirror_mode": {
    "name": "ipython",
    "version": 3
   },
   "file_extension": ".py",
   "mimetype": "text/x-python",
   "name": "python",
   "nbconvert_exporter": "python",
   "pygments_lexer": "ipython3",
   "version": "3.9.13"
  }
 },
 "nbformat": 4,
 "nbformat_minor": 5
}
